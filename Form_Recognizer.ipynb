{
  "nbformat": 4,
  "nbformat_minor": 0,
  "metadata": {
    "colab": {
      "provenance": [],
      "gpuType": "T4"
    },
    "kernelspec": {
      "name": "python3",
      "display_name": "Python 3"
    },
    "language_info": {
      "name": "python"
    },
    "accelerator": "GPU",
    "gpuClass": "standard"
  },
  "cells": [
    {
      "cell_type": "code",
      "execution_count": 1,
      "metadata": {
        "colab": {
          "base_uri": "https://localhost:8080/"
        },
        "id": "7VlPoigQgc4R",
        "outputId": "aac0a14c-97a5-4ec9-bfc1-13968f676de7"
      },
      "outputs": [
        {
          "output_type": "stream",
          "name": "stdout",
          "text": [
            "Looking in indexes: https://pypi.org/simple, https://us-python.pkg.dev/colab-wheels/public/simple/\n",
            "Collecting azure-ai-formrecognizer\n",
            "  Downloading azure_ai_formrecognizer-3.2.1-py3-none-any.whl (228 kB)\n",
            "\u001b[2K     \u001b[90m━━━━━━━━━━━━━━━━━━━━━━━━━━━━━━━━━━━━━━\u001b[0m \u001b[32m228.6/228.6 kB\u001b[0m \u001b[31m21.4 MB/s\u001b[0m eta \u001b[36m0:00:00\u001b[0m\n",
            "\u001b[?25hCollecting azure-core<2.0.0,>=1.23.0 (from azure-ai-formrecognizer)\n",
            "  Downloading azure_core-1.26.4-py3-none-any.whl (173 kB)\n",
            "\u001b[2K     \u001b[90m━━━━━━━━━━━━━━━━━━━━━━━━━━━━━━━━━━━━━━\u001b[0m \u001b[32m173.9/173.9 kB\u001b[0m \u001b[31m25.0 MB/s\u001b[0m eta \u001b[36m0:00:00\u001b[0m\n",
            "\u001b[?25hCollecting msrest>=0.6.21 (from azure-ai-formrecognizer)\n",
            "  Downloading msrest-0.7.1-py3-none-any.whl (85 kB)\n",
            "\u001b[2K     \u001b[90m━━━━━━━━━━━━━━━━━━━━━━━━━━━━━━━━━━━━━━━━\u001b[0m \u001b[32m85.4/85.4 kB\u001b[0m \u001b[31m12.2 MB/s\u001b[0m eta \u001b[36m0:00:00\u001b[0m\n",
            "\u001b[?25hCollecting azure-common~=1.1 (from azure-ai-formrecognizer)\n",
            "  Downloading azure_common-1.1.28-py2.py3-none-any.whl (14 kB)\n",
            "Requirement already satisfied: typing-extensions>=4.0.1 in /usr/local/lib/python3.10/dist-packages (from azure-ai-formrecognizer) (4.5.0)\n",
            "Requirement already satisfied: requests>=2.18.4 in /usr/local/lib/python3.10/dist-packages (from azure-core<2.0.0,>=1.23.0->azure-ai-formrecognizer) (2.27.1)\n",
            "Requirement already satisfied: six>=1.11.0 in /usr/local/lib/python3.10/dist-packages (from azure-core<2.0.0,>=1.23.0->azure-ai-formrecognizer) (1.16.0)\n",
            "Requirement already satisfied: certifi>=2017.4.17 in /usr/local/lib/python3.10/dist-packages (from msrest>=0.6.21->azure-ai-formrecognizer) (2022.12.7)\n",
            "Collecting isodate>=0.6.0 (from msrest>=0.6.21->azure-ai-formrecognizer)\n",
            "  Downloading isodate-0.6.1-py2.py3-none-any.whl (41 kB)\n",
            "\u001b[2K     \u001b[90m━━━━━━━━━━━━━━━━━━━━━━━━━━━━━━━━━━━━━━━━\u001b[0m \u001b[32m41.7/41.7 kB\u001b[0m \u001b[31m5.9 MB/s\u001b[0m eta \u001b[36m0:00:00\u001b[0m\n",
            "\u001b[?25hRequirement already satisfied: requests-oauthlib>=0.5.0 in /usr/local/lib/python3.10/dist-packages (from msrest>=0.6.21->azure-ai-formrecognizer) (1.3.1)\n",
            "Requirement already satisfied: urllib3<1.27,>=1.21.1 in /usr/local/lib/python3.10/dist-packages (from requests>=2.18.4->azure-core<2.0.0,>=1.23.0->azure-ai-formrecognizer) (1.26.15)\n",
            "Requirement already satisfied: charset-normalizer~=2.0.0 in /usr/local/lib/python3.10/dist-packages (from requests>=2.18.4->azure-core<2.0.0,>=1.23.0->azure-ai-formrecognizer) (2.0.12)\n",
            "Requirement already satisfied: idna<4,>=2.5 in /usr/local/lib/python3.10/dist-packages (from requests>=2.18.4->azure-core<2.0.0,>=1.23.0->azure-ai-formrecognizer) (3.4)\n",
            "Requirement already satisfied: oauthlib>=3.0.0 in /usr/local/lib/python3.10/dist-packages (from requests-oauthlib>=0.5.0->msrest>=0.6.21->azure-ai-formrecognizer) (3.2.2)\n",
            "Installing collected packages: azure-common, isodate, azure-core, msrest, azure-ai-formrecognizer\n",
            "Successfully installed azure-ai-formrecognizer-3.2.1 azure-common-1.1.28 azure-core-1.26.4 isodate-0.6.1 msrest-0.7.1\n"
          ]
        }
      ],
      "source": [
        "pip install azure-ai-formrecognizer"
      ]
    },
    {
      "cell_type": "code",
      "source": [
        "from azure.ai.formrecognizer import FormRecognizerClient\n",
        "from azure.core.credentials import AzureKeyCredential"
      ],
      "metadata": {
        "id": "pz7ZY237glVO"
      },
      "execution_count": 2,
      "outputs": []
    },
    {
      "cell_type": "code",
      "source": [
        "Endpoint = 'https://learning-fr.cognitiveservices.azure.com/'\n",
        "Key = '4ba23adb356a43698b67506be4113dc1'"
      ],
      "metadata": {
        "id": "gi5y4ce5ydKQ"
      },
      "execution_count": 3,
      "outputs": []
    },
    {
      "cell_type": "code",
      "source": [
        "credential = AzureKeyCredential(key=Key)\n",
        "form_recognizer_client = FormRecognizerClient(endpoint=Endpoint,credential=credential)"
      ],
      "metadata": {
        "id": "onDxDUAnzHrr"
      },
      "execution_count": 5,
      "outputs": []
    },
    {
      "cell_type": "code",
      "source": [
        "image_path = '/content/example image.jpeg'"
      ],
      "metadata": {
        "id": "_La3CvCezhqn"
      },
      "execution_count": 13,
      "outputs": []
    },
    {
      "cell_type": "code",
      "source": [
        "with open(image_path , \"rb\") as f:\n",
        "  result = form_recognizer_client.begin_recognize_receipts(receipt=f,content_type=\"image/jpeg\").result()"
      ],
      "metadata": {
        "id": "HM7r1Zku0HAz"
      },
      "execution_count": 14,
      "outputs": []
    },
    {
      "cell_type": "code",
      "source": [
        "type(result)"
      ],
      "metadata": {
        "colab": {
          "base_uri": "https://localhost:8080/"
        },
        "id": "TaSrz_ME0VRd",
        "outputId": "9749385e-5e99-430a-a2e9-dda11da64446"
      },
      "execution_count": 17,
      "outputs": [
        {
          "output_type": "execute_result",
          "data": {
            "text/plain": [
              "list"
            ]
          },
          "metadata": {},
          "execution_count": 17
        }
      ]
    },
    {
      "cell_type": "code",
      "source": [
        "for receipt in result:\n",
        "    for field in receipt.fields.values():\n",
        "        print(f\"{field.name}: {field.value}\")"
      ],
      "metadata": {
        "colab": {
          "base_uri": "https://localhost:8080/"
        },
        "id": "HRLG_I2-2mep",
        "outputId": "3ca6a23c-98c3-4152-a80d-cc5f493e6071"
      },
      "execution_count": 18,
      "outputs": [
        {
          "output_type": "stream",
          "name": "stdout",
          "text": [
            "Items: [FormField(value_type=dictionary, label_data=None, value_data=None, name=Items, value={'Name': FormField(value_type=string, label_data=None, value_data=FieldData(page_number=1, text=T-Shirt, bounding_box=[Point(x=81.0, y=67.0), Point(x=100.0, y=67.0), Point(x=100.0, y=73.0), Point(x=81.0, y=73.0)], field_elements=None), name=Name, value='T-Shirt', confidence=0.975), 'Quantity': FormField(value_type=float, label_data=None, value_data=FieldData(page_number=1, text=1x, bounding_box=[Point(x=73.0, y=67.0), Point(x=79.0, y=67.0), Point(x=80.0, y=73.0), Point(x=73.0, y=73.0)], field_elements=None), name=Quantity, value=1.0, confidence=0.989), 'TotalPrice': FormField(value_type=float, label_data=None, value_data=FieldData(page_number=1, text=$25.50, bounding_box=[Point(x=164.0, y=66.0), Point(x=181.0, y=66.0), Point(x=182.0, y=72.0), Point(x=164.0, y=73.0)], field_elements=None), name=TotalPrice, value=25.5, confidence=0.986)}, confidence=1.0), FormField(value_type=dictionary, label_data=None, value_data=None, name=Items, value={'Name': FormField(value_type=string, label_data=None, value_data=FieldData(page_number=1, text=Watches, bounding_box=[Point(x=80.0, y=80.0), Point(x=104.0, y=80.0), Point(x=104.0, y=86.0), Point(x=81.0, y=86.0)], field_elements=None), name=Name, value='Watches', confidence=0.965), 'Quantity': FormField(value_type=float, label_data=None, value_data=FieldData(page_number=1, text=1x, bounding_box=[Point(x=73.0, y=80.0), Point(x=79.0, y=80.0), Point(x=79.0, y=86.0), Point(x=73.0, y=86.0)], field_elements=None), name=Quantity, value=1.0, confidence=0.989), 'TotalPrice': FormField(value_type=float, label_data=None, value_data=FieldData(page_number=1, text=$299.08, bounding_box=[Point(x=161.0, y=80.0), Point(x=182.0, y=80.0), Point(x=182.0, y=86.0), Point(x=161.0, y=86.0)], field_elements=None), name=TotalPrice, value=299.08, confidence=0.985)}, confidence=1.0), FormField(value_type=dictionary, label_data=None, value_data=None, name=Items, value={'Name': FormField(value_type=string, label_data=None, value_data=FieldData(page_number=1, text=Pants, bounding_box=[Point(x=80.0, y=93.0), Point(x=96.0, y=93.0), Point(x=96.0, y=99.0), Point(x=80.0, y=99.0)], field_elements=None), name=Name, value='Pants', confidence=0.97), 'Quantity': FormField(value_type=float, label_data=None, value_data=FieldData(page_number=1, text=1, bounding_box=[Point(x=73.0, y=93.0), Point(x=75.0, y=93.0), Point(x=75.0, y=99.0), Point(x=73.0, y=99.0)], field_elements=None), name=Quantity, value=1.0, confidence=0.993), 'TotalPrice': FormField(value_type=float, label_data=None, value_data=FieldData(page_number=1, text=$12.99, bounding_box=[Point(x=163.0, y=93.0), Point(x=182.0, y=93.0), Point(x=182.0, y=99.0), Point(x=164.0, y=99.0)], field_elements=None), name=TotalPrice, value=12.99, confidence=0.983)}, confidence=1.0), FormField(value_type=dictionary, label_data=None, value_data=None, name=Items, value={'Name': FormField(value_type=string, label_data=None, value_data=FieldData(page_number=1, text=Socks, bounding_box=[Point(x=81.0, y=106.0), Point(x=97.0, y=107.0), Point(x=96.0, y=112.0), Point(x=80.0, y=112.0)], field_elements=None), name=Name, value='Socks', confidence=0.95), 'Quantity': FormField(value_type=float, label_data=None, value_data=FieldData(page_number=1, text=1, bounding_box=[Point(x=73.0, y=106.0), Point(x=75.0, y=106.0), Point(x=75.0, y=112.0), Point(x=73.0, y=112.0)], field_elements=None), name=Quantity, value=1.0, confidence=0.994)}, confidence=1.0)]\n",
            "ReceiptType: Itemized\n",
            "Total: 353.99\n",
            "TransactionDate: None\n",
            "TransactionTime: 11:12:00\n"
          ]
        }
      ]
    },
    {
      "cell_type": "code",
      "source": [
        "with open('/content/20230523_143746.jpg','rb') as f:\n",
        "  result = form_recognizer_client.begin_recognize_business_cards(f).result()"
      ],
      "metadata": {
        "id": "qMqu6q4926jo"
      },
      "execution_count": 20,
      "outputs": []
    },
    {
      "cell_type": "code",
      "source": [
        "for business_card in result:\n",
        "    # Fetch specific fields from the business card\n",
        "    contact_name = business_card.fields.get(\"ContactName\")\n",
        "    job_title = business_card.fields.get(\"JobTitle\")\n",
        "    email = business_card.fields.get(\"Email\")\n",
        "    phone_numbers = business_card.fields.get(\"PhoneNumbers\")\n",
        "    company_name = business_card.fields.get(\"CompanyNames\")\n",
        "    address = business_card.fields.get(\"Addresses\")\n",
        "\n",
        "    # Print the fetched information\n",
        "    if contact_name:\n",
        "        print(\"Contact Name:\", contact_name.value)\n",
        "    \n",
        "    if job_title:\n",
        "        print(\"Job Title:\", job_title.value)\n",
        "\n",
        "    if email:\n",
        "        print(\"Email:\", email.value)\n",
        "\n",
        "    if phone_numbers:\n",
        "        print(\"Phone Numbers:\")\n",
        "        for phone_number in phone_numbers.value:\n",
        "            print(\"- Type:\", phone_number.get(\"Type\").value)\n",
        "            print(\"  Number:\", phone_number.get(\"Number\").value)\n",
        "    \n",
        "    if company_name:\n",
        "        print(\"Company Name:\", company_name.value)\n",
        "    \n",
        "    "
      ],
      "metadata": {
        "colab": {
          "base_uri": "https://localhost:8080/"
        },
        "id": "6DEGXVJX5H-S",
        "outputId": "cdc1d7b7-b548-4267-9f23-13f96e9960e3"
      },
      "execution_count": 24,
      "outputs": [
        {
          "output_type": "stream",
          "name": "stdout",
          "text": [
            "Company Name: [FormField(value_type=string, label_data=None, value_data=FieldData(page_number=1, text=ONYX, bounding_box=[Point(x=2769.0, y=393.0), Point(x=3500.0, y=414.0), Point(x=3494.0, y=619.0), Point(x=2766.0, y=606.0)], field_elements=None), name=CompanyNames, value='ONYX', confidence=0.988), FormField(value_type=string, label_data=None, value_data=FieldData(page_number=1, text=PPL, bounding_box=[Point(x=517.0, y=1240.0), Point(x=851.0, y=1240.0), Point(x=851.0, y=1426.0), Point(x=518.0, y=1427.0)], field_elements=None), name=CompanyNames, value='PPL', confidence=0.938), FormField(value_type=string, label_data=None, value_data=FieldData(page_number=1, text=PARTH PLYWOOD & LAMINATES, bounding_box=[Point(x=1137.8, y=1557.8), Point(x=3610.0, y=1567.0), Point(x=3609.2, y=1785.1), Point(x=1137.0, y=1775.9)], field_elements=None), name=CompanyNames, value='PARTH PLYWOOD & LAMINATES', confidence=0.983)]\n"
          ]
        }
      ]
    },
    {
      "cell_type": "code",
      "source": [
        "result"
      ],
      "metadata": {
        "colab": {
          "base_uri": "https://localhost:8080/"
        },
        "id": "SFkyrG-q5Zar",
        "outputId": "a797374c-479e-4d71-db3b-c294abb2f23d"
      },
      "execution_count": 25,
      "outputs": [
        {
          "output_type": "execute_result",
          "data": {
            "text/plain": [
              "[RecognizedForm(form_type=prebuilt:businesscard, fields={'Addresses': FormField(value_type=list, label_data=None, value_data=None, name=Addresses, value=[FormField(value_type=string, label_data=None, value_data=FieldData(page_number=1, text=K1/38, Rajapuri Road, Uttam Nagar, New Delhi - 110059, bounding_box=[Point(x=1134.3, y=1809.4), Point(x=3178.1, y=1826.1), Point(x=3175.7, y=2113.8), Point(x=1132.0, y=2097.2)], field_elements=None), name=Addresses, value='K1/38, Rajapuri Road, Uttam Nagar, New Delhi - 110059', confidence=0.988)], confidence=1.0), 'CompanyNames': FormField(value_type=list, label_data=None, value_data=None, name=CompanyNames, value=[FormField(value_type=string, label_data=None, value_data=FieldData(page_number=1, text=ONYX, bounding_box=[Point(x=2769.0, y=393.0), Point(x=3500.0, y=414.0), Point(x=3494.0, y=619.0), Point(x=2766.0, y=606.0)], field_elements=None), name=CompanyNames, value='ONYX', confidence=0.988), FormField(value_type=string, label_data=None, value_data=FieldData(page_number=]"
            ]
          },
          "metadata": {},
          "execution_count": 25
        }
      ]
    },
    {
      "cell_type": "code",
      "source": [
        "for business_card in result:\n",
        "    # Access all the extracted fields and their values\n",
        "    for field in business_card.fields.values():\n",
        "        print(field.name + \": \" + str(field.value))"
      ],
      "metadata": {
        "colab": {
          "base_uri": "https://localhost:8080/"
        },
        "id": "24Azupn06Y2-",
        "outputId": "8e7d1a62-14ca-4828-9203-796222d1f607"
      },
      "execution_count": 30,
      "outputs": [
        {
          "output_type": "stream",
          "name": "stdout",
          "text": [
            "Addresses: [FormField(value_type=string, label_data=None, value_data=FieldData(page_number=1, text=K1/38, Rajapuri Road, Uttam Nagar, New Delhi - 110059, bounding_box=[Point(x=1134.3, y=1809.4), Point(x=3178.1, y=1826.1), Point(x=3175.7, y=2113.8), Point(x=1132.0, y=2097.2)], field_elements=None), name=Addresses, value='K1/38, Rajapuri Road, Uttam Nagar, New Delhi - 110059', confidence=0.988)]\n",
            "CompanyNames: [FormField(value_type=string, label_data=None, value_data=FieldData(page_number=1, text=ONYX, bounding_box=[Point(x=2769.0, y=393.0), Point(x=3500.0, y=414.0), Point(x=3494.0, y=619.0), Point(x=2766.0, y=606.0)], field_elements=None), name=CompanyNames, value='ONYX', confidence=0.988), FormField(value_type=string, label_data=None, value_data=FieldData(page_number=1, text=PPL, bounding_box=[Point(x=517.0, y=1240.0), Point(x=851.0, y=1240.0), Point(x=851.0, y=1426.0), Point(x=518.0, y=1427.0)], field_elements=None), name=CompanyNames, value='PPL', confidence=0.938), FormField(value_type=string, label_data=None, value_data=FieldData(page_number=1, text=PARTH PLYWOOD & LAMINATES, bounding_box=[Point(x=1137.8, y=1557.8), Point(x=3610.0, y=1567.0), Point(x=3609.2, y=1785.1), Point(x=1137.0, y=1775.9)], field_elements=None), name=CompanyNames, value='PARTH PLYWOOD & LAMINATES', confidence=0.983)]\n",
            "ContactNames: [FormField(value_type=dictionary, label_data=None, value_data=FieldData(page_number=1, text=Deepanshu Pahuja, bounding_box=[Point(x=1161.0, y=873.7), Point(x=2448.1, y=883.0), Point(x=2447.0, y=1034.6), Point(x=1159.9, y=1025.2)], field_elements=None), name=ContactNames, value={'FirstName': FormField(value_type=string, label_data=None, value_data=FieldData(page_number=1, text=Deepanshu, bounding_box=[Point(x=1161.0, y=885.0), Point(x=1918.0, y=882.0), Point(x=1917.0, y=1030.0), Point(x=1160.0, y=1016.0)], field_elements=None), name=FirstName, value='Deepanshu', confidence=1.0), 'LastName': FormField(value_type=string, label_data=None, value_data=FieldData(page_number=1, text=Pahuja, bounding_box=[Point(x=1954.0, y=882.0), Point(x=2447.0, y=883.0), Point(x=2447.0, y=1033.0), Point(x=1953.0, y=1031.0)], field_elements=None), name=LastName, value='Pahuja', confidence=1.0)}, confidence=0.983)]\n",
            "Emails: [FormField(value_type=string, label_data=None, value_data=FieldData(page_number=1, text=pahuja.deepanshu118@gmail.com, bounding_box=[Point(x=1578.0, y=2129.0), Point(x=3569.0, y=2125.0), Point(x=3570.0, y=2252.0), Point(x=1580.0, y=2268.0)], field_elements=None), name=Emails, value='pahuja.deepanshu118@gmail.com', confidence=0.99)]\n",
            "OtherPhones: [FormField(value_type=phoneNumber, label_data=None, value_data=FieldData(page_number=1, text=+91 8826280805, bounding_box=[Point(x=1315.0, y=1057.0), Point(x=2180.0, y=1063.0), Point(x=2179.2, y=1173.0), Point(x=1314.3, y=1167.0)], field_elements=None), name=OtherPhones, value=None, confidence=0.988), FormField(value_type=phoneNumber, label_data=None, value_data=FieldData(page_number=1, text=+91 9212134075, bounding_box=[Point(x=2742.7, y=1066.6), Point(x=3568.0, y=1080.0), Point(x=3566.2, y=1189.9), Point(x=2741.0, y=1176.5)], field_elements=None), name=OtherPhones, value=None, confidence=0.989)]\n"
          ]
        }
      ]
    },
    {
      "cell_type": "code",
      "source": [
        "with open('/content/example image2.jpg','rb') as f:\n",
        "  result = form_recognizer_client.begin_recognize_content(f).result()"
      ],
      "metadata": {
        "id": "Ls04qcjA7utW"
      },
      "execution_count": 31,
      "outputs": []
    },
    {
      "cell_type": "code",
      "source": [
        "result"
      ],
      "metadata": {
        "colab": {
          "base_uri": "https://localhost:8080/"
        },
        "id": "BPWDyZ6a-9gz",
        "outputId": "44827636-e377-41ea-88c9-f0b820b8da1a"
      },
      "execution_count": 33,
      "outputs": [
        {
          "output_type": "execute_result",
          "data": {
            "text/plain": [
              "[FormPage(page_number=1, text_angle=0.0, width=650.0, height=500.0, unit=pixel, tables=[FormTable(page_number=1, cells=[FormTableCell(text=Player, row_index=0, column_index=0, row_span=1, column_span=1, bounding_box=[Point(x=62.0, y=82.0), Point(x=136.0, y=82.0), Point(x=136.0, y=102.0), Point(x=62.0, y=103.0)], confidence=1.0, is_header=True, is_footer=False, page_number=1, field_elements=[FormWord(text=Player, bounding_box=[Point(x=70.0, y=86.0), Point(x=123.0, y=87.0), Point(x=122.0, y=102.0), Point(x=70.0, y=102.0)], confidence=0.994, page_number=1, kind=word)]), FormTableCell(text=Matches, row_index=0, column_index=1, row_span=1, column_span=1, bounding_box=[Point(x=136.0, y=82.0), Point(x=218.0, y=82.0), Point(x=218.0, y=102.0), Point(x=136.0, y=102.0)], confidence=1.0, is_header=True, is_footer=False, page_number=1, field_elements=[FormWord(text=Matches, bounding_box=[Point(x=145.0, y=87.0), Point(x=214.0, y=87.0), Point(x=213.0, y=102.0), Point(x=145.0, y=101.0)], confidence=0.994, page_number=1, kind=]"
            ]
          },
          "metadata": {},
          "execution_count": 33
        }
      ]
    },
    {
      "cell_type": "code",
      "source": [],
      "metadata": {
        "id": "kCXMGPDo_xeR"
      },
      "execution_count": null,
      "outputs": []
    }
  ]
}